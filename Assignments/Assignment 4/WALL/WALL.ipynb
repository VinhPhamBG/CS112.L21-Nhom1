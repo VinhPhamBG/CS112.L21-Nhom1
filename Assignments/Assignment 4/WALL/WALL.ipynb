{
  "nbformat": 4,
  "nbformat_minor": 0,
  "metadata": {
    "colab": {
      "name": "WALL.ipynb",
      "provenance": []
    },
    "kernelspec": {
      "name": "python3",
      "display_name": "Python 3"
    },
    "language_info": {
      "name": "python"
    }
  },
  "cells": [
    {
      "cell_type": "markdown",
      "metadata": {
        "id": "x6Dr6Jx0kJLD"
      },
      "source": [
        "# **SỬA HÀNG RÀO**\n",
        "\n",
        "##**Yêu cầu bài toán:**\n",
        "\n",
        "Sau khi dựng xong nhà kho chứa cỏ, dì Poly quyết định dùng m tấm gỗ còn thừa gia cố hàng rào của vườn rau ngăn không cho gà vào phá và giao công việc này cho Tôm và Hấc Phin làm. Nhiệm vụ của hai cậu bé tội nghiệp là đóng thêm vào các tấm ván hàng rào để có hàng rào mới càng cao càng tốt. Nhìn vẽ mặt buồn thiu và lóng ngóng của 2 đứa Jim quyết định sẽ làm giúp. Hàng rào được ghép từ n tấm gỗ cùng độ rộng như nhau và bằng độ rộng của các tấm gỗ còn thừa, tấm thứ i có độ cao ai, i = 1 ÷ n. Tôm và Hấc Phin chỉ phải xếp các tấm còn thừa lên xe ba gác để Jim kéo đi. Các tấm gỗ được xếp thành một chồng, tính từ trên xuống tấm thứ j có độ dài bj, j = 1 ÷ m. Jim kéo xe ba gác đi dọc theo hàng rào. Đến một tấm nào đó muốn gia cố Jim sẽ lấy một tấm gỗ từ xe đóng tiếp lên tấm gỗ trên hàng rào và độ cao mới của tấm này trên hàng rào sẽ là tổng độ cao của tấm cũ và tấm mới đóng thêm. Jim chỉ đóng thêm một tấm mới vào tấm cũ vì muốn đảm bảo độ chắc chắn của hàng rào. Jim có thể lấy tấm trên cùng ở xe hoặc vất ra khỏi xe một số tấm cho đến khi gặp tấm vừa ý. Người ta vẫn nói “Khôn đâu tới trẻ, khỏe đâu tới già!”  Jim đã đứng tuổi và không còn sức để xếp lại các tấm gỗ bị bỏ ra vào xe. Ngoài ra, Jim cũng khá mê tín nên không quay lại lấy những tấm đã loại.\n",
        "\n",
        "Hãy xác định độ cao lớn nhất có thể đạt được của hàng rào sau khi gia cố. Độ cao của hàng rào được tính bằng độ cao tấm gỗ thấp nhất trên hàng rào.\n",
        "\n",
        "**Dữ liệu:** \n",
        "* Dòng đầu tiên chứa số nguyên n (1 ≤ n ≤ 105),\n",
        "* Dòng thứ 2 chứa n số nguyên a1, a2, . . ., an (1 ≤ ai ≤ 108, i = 1 ÷ n),\n",
        "* Dòng thứ 3 chứa số nguyên m  (1 ≤ m ≤ 105),\n",
        "* Dòng cuối cùng chứ m số nguyên b1, b2, . . ., bm (1 ≤ bj ≤ 108, j = 1÷ m).\n",
        "\n",
        "**Kết quả:** Đưa ra thiết bị xuất chuẩn, dòng đầu tiên chứa 2 số nguyên h và k – độ cao lớn nhất có thể của hàng rào và số tấm gỗ đã được đóng thêm, mỗi dòng trong k dòng tiếp theo chứa 2 số nguyên x và y, trong đó x – tấm gỗ trên hàng rào được đóng cao hơn, y – tấm gỗ được dùng để đóng. Đưa ra phương án có các số hiệu tấm ván được chọn là nhỏ nhất nếu tồn tại nhiều cách đóng khác nhau.\n",
        "\n",
        "**Ví dụ:**\n",
        "\n",
        "| INPUT | OUTPUT |\n",
        "|-------|--------|\n",
        "| 6 | 5 3 |\n",
        "| 2 5 4 1 7 5 | 1 2 |\n",
        "| 7 | 3 3 |\n",
        "| 2 3 1 3 2 4 6 | 4 6 |\n",
        "\n",
        "## **Phân tích bài toán:**\n",
        "### **1.Abstraction:**\n",
        "Cho 2 dãy số dương a và b, thêm lần lượt các số b vào các vị trí của a sao cho độ lớn a là lớn nhất (độ lớn của a được tính bằng số nhỏ nhất của a).\n",
        "### **2.Pattern recognition:**\n",
        "* Vì cần xét tất cả trường hợp để tìm h nên áp dụng thuật toán vét cạn\n",
        "* Xét giảm dần từ max(a) + max(b) để tìm h phù hợp.\n",
        "\n",
        "### **3. Pseudo code:**  \n"
      ]
    },
    {
      "cell_type": "code",
      "metadata": {
        "id": "UBl8Co6X0M50"
      },
      "source": [
        "Given two arrays a, b and two intergers n, m.  \n",
        "Set x = y = []  \n",
        "Function Fix() that check the max h and find x, y     \n",
        "    Return True if h is suitable  \n",
        "Set h_max = max(a) + max(b)  \n",
        "FOR i = h_max downto 0:  \n",
        "    if Fix(i, a, b) == True:\n",
        "        h = i\n",
        "        Break\n",
        "    k = len(x)  \n",
        "Output(h, k, x, y)\n"
      ],
      "execution_count": null,
      "outputs": []
    },
    {
      "cell_type": "markdown",
      "metadata": {
        "id": "smHMYF8G0mL2"
      },
      "source": [
        "### **4. Programming:**"
      ]
    },
    {
      "cell_type": "code",
      "metadata": {
        "colab": {
          "base_uri": "https://localhost:8080/"
        },
        "id": "MZnhC-gMi6eb",
        "outputId": "47432119-7c00-4d58-bed7-07756d379a7d"
      },
      "source": [
        "\n",
        "n = int(input())\n",
        "a = list(map(int, input().split()))\n",
        "m = int(input())\n",
        "b = list(map(int, input().split()))\n",
        "x = []\n",
        "y = []\n",
        "\n",
        "def reinforce1(h, a, b): #Xét xem có thể lắp được hàng rào với độ cao h hay không\n",
        "   selector = 0\n",
        "   count = sum(x < h for x in a)\n",
        "   x.clear()\n",
        "   y.clear()\n",
        "   j = 0\n",
        "   l = len(b)\n",
        "   for i in range(len(a)):  \n",
        "      if a[i] < h:\n",
        "         while a[i] < h and j < l and (l - j) >= count:\n",
        "            if a[i] + b[j] >= h:\n",
        "               a[i] += b[j]\n",
        "               x.append(i + 1)\n",
        "               y.append(j + 1)\n",
        "               count -= 1\n",
        "               j += 1\n",
        "               break\n",
        "            j += 1\n",
        "   if min(a) < h:\n",
        "      return False\n",
        "   return True\n",
        "   \n",
        "h_max = max(a) + max(b)\n",
        "\n",
        "for i in range(h_max, 0, -1):\n",
        "   a_temp = a.copy()\n",
        "   if reinforce1(i, a_temp, b) == True:\n",
        "      h = i\n",
        "      break \n",
        "\n",
        "k = len(x)    \n",
        "\n",
        "sys.stdout.write(str(h) + ' ' + str(k) + '\\n')   \n",
        "for i in range(k):\n",
        "   sys.stdout.write(str(x[i]) + ' ' + str(y[i]) + '\\n')"
      ],
      "execution_count": null,
      "outputs": [
        {
          "output_type": "stream",
          "text": [
            "6\n",
            "2 5 4 1 7 5\n",
            "7\n",
            "2 3 1 3 2 4 6\n",
            "5 3\n",
            "1 2\n",
            "3 3\n",
            "4 6\n"
          ],
          "name": "stdout"
        }
      ]
    },
    {
      "cell_type": "markdown",
      "metadata": {
        "id": "ff4RyZY3jgrT"
      },
      "source": [
        ""
      ]
    }
  ]
}