{
  "nbformat": 4,
  "nbformat_minor": 0,
  "metadata": {
    "colab": {
      "name": "Renewed.ipynb",
      "provenance": []
    },
    "kernelspec": {
      "name": "python3",
      "display_name": "Python 3"
    },
    "language_info": {
      "name": "python"
    }
  },
  "cells": [
    {
      "cell_type": "markdown",
      "metadata": {
        "id": "XbgqUBnw1n65"
      },
      "source": [
        "#ĐỔI MỚI\n",
        "## Yêu cầu bài toán:\n",
        "Thành phố quyết định chặt hạ hết n cây xanh hiện có trong thành phố để trồng chỉ một loại cây mới. Nhiệm vụ được giao cho Công ty Cây xanh thành phố. Do hạn chế về thiết bị Công ty chỉ tổ chức được 2 đội đốn hạ cây. Đội I hạ được a cây mỗi ngày, nhưng cứ mối ngày thứ k thì phải nghỉ để bảo dưỡng kỹ thuật, tức là đội I sẽ nghỉ vào các ngày k, 2k, 3k, . . . Đội II hạ được b cây mỗi ngày, nhưng cứ mỗi ngày thứ m thì phải nghỉ để bảo dưỡng kỹ thuật, tức là đội II sẽ nghỉ vào các ngày m, 2m, 3m, . . . Ở ngày nghỉ, số cây chặt hạ của đội sẽ là 0. Cả hai đội bắt đầu công việc vào cùng một ngày và làm việc song song với nhau.\n",
        "\n",
        "Công việc trồng cây mới sẽ bắt đầu sau khi toàn bộ cây cũ đã bị đốn hạ.\n",
        "\n",
        "Hãy xác định sau bao nhiêu ngày thì có thể bắt đầu việc trồng mới cây.\n",
        "\n",
        "**Dữ liệu**: Vào từ thiết bị nhập chuẩn gồm một dòng chứa 5 số nguyên a, k, b, m và n (1 ≤ a, b ≤ 109, 2 ≤ k, m ≤ 1018, 1 ≤ n ≤ 1018).\n",
        "\n",
        "**Kết quả**: Đưa ra thiết bị xuất chuẩn một số nguyên – số ngày tính được.\n",
        "\n",
        "**Ví dụ**:\n",
        "\n",
        "|    INPUT   |   OUTPUT  |\n",
        "|------------|-----------|\n",
        "|2 4 3 3 25  | 7         |\n",
        "\n",
        "## Phân tích bài toán:\n",
        "* **1. Abstraction:**\n",
        "Tìm số lần mà tổng mỗi lần thứ i bằng a * (i % k != 0) + b * (i % m != 0) cho đến khi tổng các lần lớn hơn hoặc bằng n\n",
        "* **2. Pattern Recognition:**\n",
        "Áp dụng thuật toán Tham lam (Greedy approach)\n",
        "* **3. Algorithm designed:**\n",
        "```[Python3x]\n",
        "Given intergers a, k, b, m, n\n",
        "Set count = 0 \n",
        "Set rest_1 = 0, rest_2 = 0 #It's the rest period counted in the previous time.\n",
        "WHILE LOOP:\n",
        "    Set day = n//(a+b) #The number of working days is not off.\n",
        "    IF DAY == 0:\n",
        "        Set day = 1  #Avoid n <(a + b)\n",
        "    Set count += day\n",
        "    #Compute the number of working days is off equal count // k  - rest_1 \n",
        "    in the case of team 1 and count // m - rest_2 in the case of team 2\n",
        "    Set n -= a * (day - count // k + rest_1) + b * (day - count // m + rest_2)\n",
        "    #Update rest_1, rest 2\n",
        "    Set rest_1 = count//k\n",
        "    Set rest_2 = count//m\n",
        "    IF n > 0 == False:\n",
        "        break\n",
        "# Count is search results.\n",
        "END.\n",
        "```\n",
        "\n",
        "* **4. Complexity:**\n",
        "O(log(n)) vì sau mỗi lần lặp là số ngày chắc chắn phải làm (chưa trừ những ngày nghỉ).\n",
        "* **5. Programming:**\n",
        "\n"
      ]
    },
    {
      "cell_type": "code",
      "metadata": {
        "colab": {
          "base_uri": "https://localhost:8080/"
        },
        "id": "3GZ-Pww2O13a",
        "outputId": "aa9c54b4-f83a-4f95-b290-b68e2b609509"
      },
      "source": [
        "a, k, b, m, n = map(int,input().split())\n",
        "\n",
        "count = 0\n",
        "\n",
        "rest_1 = 0\n",
        "rest_2 = 0\n",
        "\n",
        "while n > 0:\n",
        "    day = n//(a+b)\n",
        "    if day == 0:\n",
        "        day = 1\n",
        "    count += day\n",
        "    n -= a * (day - count // k + rest_1) + b * (day - count // m + rest_2)\n",
        "    rest_1 = count//k\n",
        "    rest_2 = count//m\n",
        "\n",
        "print(count)"
      ],
      "execution_count": 3,
      "outputs": [
        {
          "output_type": "stream",
          "text": [
            "2 4 3 3 25\n",
            "7\n"
          ],
          "name": "stdout"
        }
      ]
    }
  ]
}
