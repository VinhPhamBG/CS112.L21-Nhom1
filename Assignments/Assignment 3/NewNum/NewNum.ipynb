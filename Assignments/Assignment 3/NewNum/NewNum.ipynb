{
  "nbformat": 4,
  "nbformat_minor": 0,
  "metadata": {
    "colab": {
      "name": "NewNum.ipynb",
      "provenance": [],
      "authorship_tag": "ABX9TyO3qDDgMXEbCdwJXgyMRBE9",
      "include_colab_link": true
    },
    "kernelspec": {
      "name": "python3",
      "display_name": "Python 3"
    },
    "language_info": {
      "name": "python"
    }
  },
  "cells": [
    {
      "cell_type": "markdown",
      "metadata": {
        "id": "view-in-github",
        "colab_type": "text"
      },
      "source": [
        "<a href=\"https://colab.research.google.com/github/NMT201/Hello_world/blob/main/NewNum.ipynb\" target=\"_parent\"><img src=\"https://colab.research.google.com/assets/colab-badge.svg\" alt=\"Open In Colab\"/></a>"
      ]
    },
    {
      "cell_type": "markdown",
      "metadata": {
        "id": "5M7EC9uJYZZQ"
      },
      "source": [
        "# SỐ NGUYÊN MỚI\n",
        "\n",
        "## Yêu cầu bài toán:\n",
        "Cho số nguyên dương n có không quá 100 chữ số. Hãy xác định số nguyên lớn nhất m chia hết cho 3 và khác n ở đúng một chữ số.\n",
        "\n",
        "**Dữ liệu:** Vào từ thiết bị chuẩn gồm một dòng chứa số nguyên n có không quá 100 chữ số và không chứa các số 0 không có nghĩa.\n",
        "\n",
        "**Kết quả:** Đưa ra thiết bị chuẩn số nguyên m tìm được.\n",
        "\n",
        "**Ví dụ:**\n",
        "\n",
        "| INPUT | OUTPUT |\n",
        "|-------|--------|\n",
        "|123    |723     |\n",
        "\n",
        "## Phân tích bài toán:\n",
        "* **1. Abstraction:**\n",
        "Tìm số nguyên m lớn nhất chia hết cho 3 mà khác n đúng 1 chữ số \n",
        "* **2. Pattern Recognition:**\n",
        "Áp dụng thuật toán Tham lam (Greedy approach)\n",
        "Hướng tiếp cận : Vì cần tìm số lớn nhất nên điều kiện tham lam sẽ xét và thay đổi (nếu được) những chữ số từ trái sang phải.\n",
        "* **3. Algorithm designed:**\n",
        "\n",
        "**Pseudo code(Mã giả):**\n",
        "\n",
        "```[python3x]\n",
        "Given an interger n \n",
        "Set n_str = string(n)\n",
        "Set k = 3 - n%3\n",
        "Set i = 0\n",
        "\n",
        "WHILE LOOP:\n",
        "    IF int(n[i]) + 3 + k <= 9 (Check if we can change the i-th place to meet the condition - the highest number divisible by 3. This condition is the same at the one below but this can jump to the target a little bit fast)\n",
        "    THEN\n",
        "        Set n_str[i] = n_str[i] + 3\n",
        "        Set n = int(n_str)\n",
        "        Continue\n",
        "    \n",
        "    IF int(n[i]) + 3 + k <= 9\n",
        "    THEN\n",
        "        Set n_str[i] = str(int(n_str[i] + k))\n",
        "        Set n = int(n_str)\n",
        "        Break \n",
        "    \n",
        "    Set i = i + 1 (Increase i to go to next place value because we can't change anything at i-th place)\n",
        "END\n",
        "```\n",
        "\n",
        "* **4. Complexity:**\n",
        "O(k) với k là số chữ số của n\n",
        "* **5. Programming:**\n",
        "\n",
        "\n",
        "\n",
        "\n",
        "\n"
      ]
    },
    {
      "cell_type": "code",
      "metadata": {
        "id": "xOL7EB-RYwK8"
      },
      "source": [
        "n_str = input()\n",
        "n = int(n_str)\n",
        "k = 3 - n%3\n",
        "i = 0\n",
        "length = len(n_str)\n",
        "try:\n",
        "    while True:\n",
        "        if int(n_str[i]) + 3 + k <= 9:\n",
        "            n_str = n_str[0:i]  + str(int(n_str[i]) + 3) + n_str[i+1:]\n",
        "            continue\n",
        "        if int(n_str[i]) + k <= 9:\n",
        "            n_str = n_str[0:i]  + str(int(n_str[i]) + k) + n_str[i+1:]\n",
        "            break\n",
        "        i = i+1\n",
        "    print(n_str)\n",
        "except:\n",
        "    if k < 3:\n",
        "        k = 3 - k\n",
        "    print(n_str[0:length-1] + str(int(n_str[length -1]) - k ))"
      ],
      "execution_count": null,
      "outputs": []
    }
  ]
}
