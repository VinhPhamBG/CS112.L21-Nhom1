{
  "nbformat": 4,
  "nbformat_minor": 0,
  "metadata": {
    "colab": {
      "name": "Untitled0.ipynb",
      "provenance": [],
      "authorship_tag": "ABX9TyNywm1MHBXxlfxuV40FKv6g",
      "include_colab_link": true
    },
    "kernelspec": {
      "name": "python3",
      "display_name": "Python 3"
    },
    "language_info": {
      "name": "python"
    }
  },
  "cells": [
    {
      "cell_type": "markdown",
      "metadata": {
        "id": "view-in-github",
        "colab_type": "text"
      },
      "source": [
        "<a href=\"https://colab.research.google.com/github/VinhPhamBG/CS112.L21-Nhom1/blob/main/FRACTION.ipynb\" target=\"_parent\"><img src=\"https://colab.research.google.com/assets/colab-badge.svg\" alt=\"Open In Colab\"/></a>"
      ]
    },
    {
      "cell_type": "markdown",
      "metadata": {
        "id": "cWh_3DKtxBxh"
      },
      "source": [
        "# **PHÂN SỐ:**\n",
        "## **Yêu cầu bài toán:**\n",
        "\n",
        "Cho 2 phân số đúng và tối giản  $\\frac{a}{b}$, $\\frac{c}{d}$. Mỗi phép biến đổi là tăng a và b lên 1, sau đó giản ước phân số nhận được.\n",
        "\n",
        "Hãy xác định sau bao nhiêu bước biến đổi từ phân số thứ nhất ban đầu nhận được phân số thứ 2 đã cho.\n",
        "\n",
        "* **Dữ liệu:** Vào từ thiết bị nhập chuẩn gồm 4 dòng, mỗi dòng chứa 1 số nguyên a, b, c, d, 0 < a < b ≤ $10^5$, 0 < c < d ≤ $10^5$, a và b nguyên tố cùng nhau, c và d nguyên tố cùng nhau $\\frac{a}{b}$  ≠  $\\frac{c}{d}$\n",
        "\n",
        "* **Kết quả:** Đưa ra thiết bị xuất chuẩn số 0 nếu không có cách biến đổi hoặc một số nguyên – số lượng phép biến đổi.\n",
        "\n",
        "* **Ví dụ:**\n",
        "\n",
        "| INPUT | OUTPUT |\n",
        "|-------|--------|\n",
        "|1 6 2 3|5 |\n",
        "\n",
        "\n",
        "## **Phân tích bài toán:**\n",
        "\n",
        "### **1. Abstraction:**\n",
        "\n",
        "cho hai phân số đúng và tối giản $\\frac{a}{b}$, $\\frac{c}{d}$, tìm số lần biến đổi $\\frac{a}{b}$ (cộng tử và mẫu cho 1 rồi rút gọn) để $\\frac{a}{b}$ = $\\frac{c}{d}$ với  0 < a < b ≤ $10^5$, 0 < c < d ≤ $10^5$\n",
        "\n",
        "### **2. Pattern Recognition:**\n",
        "\n",
        "* Nhận thấy để giải quyết bài toán ta phải duyệt hết tất cả các lần biến đổi.\n",
        "* Nên thuật toán được sử dụng là vét cạn **brute force**\n",
        "\n",
        "### **3. Algorithm designed:**\n",
        "\n",
        "#### **3.1 Quá trình thiết kế thuật toán:**\n",
        "\n",
        "* Ta nhận thấy để phân số đầu tiên có thể biến đổi thành phân số thứ hai thì phải thỏa điều kiện: $\\frac{a}{b}$  <  $\\frac{c}{d}$\n",
        "* Ở những lần đầu do sai trong việc đặc điều kiện nên bị **Time Limit Exceeded** ở 4 testcase \n",
        "\n",
        "\n"
      ]
    },
    {
      "cell_type": "code",
      "metadata": {
        "colab": {
          "base_uri": "https://localhost:8080/"
        },
        "id": "XYUl5bsApJnL",
        "outputId": "0f93cabc-7e67-4f6f-9968-16b0d122759a"
      },
      "source": [
        "import math\n",
        "\n",
        "\n",
        "a = int(input())\n",
        "b = int(input())\n",
        "c = int(input())\n",
        "d = int(input())\n",
        "i = 0\n",
        "if(a/b < c/d):\n",
        "    while(True):\n",
        "        a += 1\n",
        "        b += 1\n",
        "        i += 1\n",
        "        x = math.gcd(a,b)\n",
        "        a = a // x \n",
        "        b = b // x\n",
        "        if (a == c) and (b == d):\n",
        "            print(int(i))\n",
        "            break\n",
        "else:\n",
        "    print(0)"
      ],
      "execution_count": 1,
      "outputs": [
        {
          "output_type": "stream",
          "text": [
            "1\n",
            "6\n",
            "2\n",
            "3\n",
            "5\n"
          ],
          "name": "stdout"
        }
      ]
    },
    {
      "cell_type": "markdown",
      "metadata": {
        "id": "CDC6ZZu-pf2x"
      },
      "source": [
        "![image.png](data:image/png;base64,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)"
      ]
    },
    {
      "cell_type": "markdown",
      "metadata": {
        "id": "IXOq0yXfpsvC"
      },
      "source": [
        "* Sau khi đọc lại đề nhóm nhận thấy chỗ sai và chỉnh lại điều kiện lập thì đã đạt được 100 điểm"
      ]
    },
    {
      "cell_type": "code",
      "metadata": {
        "colab": {
          "base_uri": "https://localhost:8080/"
        },
        "id": "2z2103oYqG-1",
        "outputId": "6a872198-da93-445a-de49-e3efed57aa24"
      },
      "source": [
        "import math\n",
        "\n",
        "a = int(input())\n",
        "b = int(input())\n",
        "c = int(input())\n",
        "d = int(input())\n",
        "i = 0\n",
        "\n",
        "while(a/b < c/d):\n",
        "    a += 1\n",
        "    b += 1\n",
        "    i += 1\n",
        "    x = math.gcd(a,b)\n",
        "    a = a // x \n",
        "    b = b // x\n",
        "    if a/b == c/d:\n",
        "        print(i)\n",
        "        break\n",
        "if a/b != c/d:\n",
        "    print(0)"
      ],
      "execution_count": 2,
      "outputs": [
        {
          "output_type": "stream",
          "text": [
            "1\n",
            "6\n",
            "2\n",
            "3\n",
            "5\n"
          ],
          "name": "stdout"
        }
      ]
    },
    {
      "cell_type": "markdown",
      "metadata": {
        "id": "1XOsrFzL0lQL"
      },
      "source": [
        "![image.png](data:image/png;base64,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)"
      ]
    },
    {
      "cell_type": "markdown",
      "metadata": {
        "id": "mzmUWpxJqbsW"
      },
      "source": [
        "#### **3.2 Mã giã(pseudo code):**"
      ]
    },
    {
      "cell_type": "code",
      "metadata": {
        "id": "mMBzsPVQqyfe"
      },
      "source": [
        "Given interger a, b, c, d\n",
        "Set i = 0\n",
        "WHILE a/b < c/d :\n",
        "    Increament a by 1\n",
        "    Increament b by 1\n",
        "    Increament i by 1\n",
        "    Set x = gcd(a, b) #Calculate greatest common divisor of a and b.\n",
        "    a <- a // x\n",
        "    b <- b // x\n",
        "    IF a/b == c/d\n",
        "        Return i\n",
        "        Break\n",
        "IF a/b != c/d:\n",
        "    Return 0"
      ],
      "execution_count": null,
      "outputs": []
    },
    {
      "cell_type": "markdown",
      "metadata": {
        "id": "YjLdHvequtfN"
      },
      "source": [
        "### **4. Complexity**\n",
        "\n",
        "Ta sử dụng vòng lập **while** nên độ phận tạp là **O(n)**, với mỗi lần lập thì ta thực hiện tính cgd bằng hàm **math.cgd()** với độ phức tạp là **O(n)** do dùng thuật toán euclid. Nên độ phức tạp của bài toán là **O($n^2$)**.\n",
        "\n",
        "### **5. Programming**"
      ]
    },
    {
      "cell_type": "code",
      "metadata": {
        "colab": {
          "base_uri": "https://localhost:8080/"
        },
        "id": "gRq5KylQ0v_R",
        "outputId": "fa24261c-38e0-440d-baba-7b67912792a1"
      },
      "source": [
        "import math\n",
        "\n",
        "a = int(input())\n",
        "b = int(input())\n",
        "c = int(input())\n",
        "d = int(input())\n",
        "i = 0\n",
        "\n",
        "while(a/b < c/d):\n",
        "    a += 1\n",
        "    b += 1\n",
        "    i += 1\n",
        "    x = math.gcd(a,b)\n",
        "    a = a // x \n",
        "    b = b // x\n",
        "    if a/b == c/d:\n",
        "        print(i)\n",
        "        break\n",
        "if a/b != c/d:\n",
        "    print(0)"
      ],
      "execution_count": 3,
      "outputs": [
        {
          "output_type": "stream",
          "text": [
            "1\n",
            "6\n",
            "2\n",
            "3\n",
            "5\n"
          ],
          "name": "stdout"
        }
      ]
    }
  ]
}